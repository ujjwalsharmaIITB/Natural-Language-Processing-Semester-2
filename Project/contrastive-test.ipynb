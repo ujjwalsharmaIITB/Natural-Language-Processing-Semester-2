{
 "cells": [
  {
   "cell_type": "code",
   "execution_count": 1,
   "metadata": {},
   "outputs": [],
   "source": [
    "import os\n",
    "\n",
    "os.environ['HF_HOME'] = \"./hf/\"\n",
    "\n",
    "os.environ['WANDB_DISABLED'] = 'true'\n",
    "\n",
    "os.environ['CUDA_VISIBLE_DEVICES'] = '0'\n",
    "\n"
   ]
  },
  {
   "cell_type": "code",
   "execution_count": 38,
   "metadata": {},
   "outputs": [],
   "source": [
    "import torch\n",
    "from torch.utils.data import DataLoader\n",
    "from torch.optim import Adam\n",
    "# for Mbart\n",
    "from transformers import MBartForConditionalGeneration, MBart50TokenizerFast\n",
    "from transformers import BertGenerationEncoder , BertGenerationDecoder, BertTokenizerFast\n",
    "from transformers import EncoderDecoderModel, EncoderDecoderConfig\n",
    "import torch.nn.functional as F\n"
   ]
  },
  {
   "cell_type": "code",
   "execution_count": 3,
   "metadata": {},
   "outputs": [
    {
     "data": {
      "text/plain": [
       "'cuda'"
      ]
     },
     "execution_count": 3,
     "metadata": {},
     "output_type": "execute_result"
    }
   ],
   "source": [
    "device = \"cuda\" if torch.cuda.is_available() else \"cpu\"\n",
    "device"
   ]
  },
  {
   "cell_type": "code",
   "execution_count": 4,
   "metadata": {},
   "outputs": [],
   "source": [
    "model_name = \"google-bert/bert-base-multilingual-cased\"\n",
    "tokenizer = BertTokenizerFast.from_pretrained(model_name)"
   ]
  },
  {
   "cell_type": "code",
   "execution_count": 5,
   "metadata": {},
   "outputs": [
    {
     "name": "stderr",
     "output_type": "stream",
     "text": [
      "You are using a model of type bert to instantiate a model of type bert-generation. This is not supported for all configurations of models and can yield errors.\n",
      "You are using a model of type bert to instantiate a model of type bert-generation. This is not supported for all configurations of models and can yield errors.\n",
      "Some weights of BertGenerationDecoder were not initialized from the model checkpoint at google-bert/bert-base-multilingual-cased and are newly initialized: ['bert.encoder.layer.0.crossattention.output.LayerNorm.bias', 'bert.encoder.layer.0.crossattention.output.LayerNorm.weight', 'bert.encoder.layer.0.crossattention.output.dense.bias', 'bert.encoder.layer.0.crossattention.output.dense.weight', 'bert.encoder.layer.0.crossattention.self.key.bias', 'bert.encoder.layer.0.crossattention.self.key.weight', 'bert.encoder.layer.0.crossattention.self.query.bias', 'bert.encoder.layer.0.crossattention.self.query.weight', 'bert.encoder.layer.0.crossattention.self.value.bias', 'bert.encoder.layer.0.crossattention.self.value.weight', 'bert.encoder.layer.1.crossattention.output.LayerNorm.bias', 'bert.encoder.layer.1.crossattention.output.LayerNorm.weight', 'bert.encoder.layer.1.crossattention.output.dense.bias', 'bert.encoder.layer.1.crossattention.output.dense.weight', 'bert.encoder.layer.1.crossattention.self.key.bias', 'bert.encoder.layer.1.crossattention.self.key.weight', 'bert.encoder.layer.1.crossattention.self.query.bias', 'bert.encoder.layer.1.crossattention.self.query.weight', 'bert.encoder.layer.1.crossattention.self.value.bias', 'bert.encoder.layer.1.crossattention.self.value.weight', 'bert.encoder.layer.10.crossattention.output.LayerNorm.bias', 'bert.encoder.layer.10.crossattention.output.LayerNorm.weight', 'bert.encoder.layer.10.crossattention.output.dense.bias', 'bert.encoder.layer.10.crossattention.output.dense.weight', 'bert.encoder.layer.10.crossattention.self.key.bias', 'bert.encoder.layer.10.crossattention.self.key.weight', 'bert.encoder.layer.10.crossattention.self.query.bias', 'bert.encoder.layer.10.crossattention.self.query.weight', 'bert.encoder.layer.10.crossattention.self.value.bias', 'bert.encoder.layer.10.crossattention.self.value.weight', 'bert.encoder.layer.11.crossattention.output.LayerNorm.bias', 'bert.encoder.layer.11.crossattention.output.LayerNorm.weight', 'bert.encoder.layer.11.crossattention.output.dense.bias', 'bert.encoder.layer.11.crossattention.output.dense.weight', 'bert.encoder.layer.11.crossattention.self.key.bias', 'bert.encoder.layer.11.crossattention.self.key.weight', 'bert.encoder.layer.11.crossattention.self.query.bias', 'bert.encoder.layer.11.crossattention.self.query.weight', 'bert.encoder.layer.11.crossattention.self.value.bias', 'bert.encoder.layer.11.crossattention.self.value.weight', 'bert.encoder.layer.2.crossattention.output.LayerNorm.bias', 'bert.encoder.layer.2.crossattention.output.LayerNorm.weight', 'bert.encoder.layer.2.crossattention.output.dense.bias', 'bert.encoder.layer.2.crossattention.output.dense.weight', 'bert.encoder.layer.2.crossattention.self.key.bias', 'bert.encoder.layer.2.crossattention.self.key.weight', 'bert.encoder.layer.2.crossattention.self.query.bias', 'bert.encoder.layer.2.crossattention.self.query.weight', 'bert.encoder.layer.2.crossattention.self.value.bias', 'bert.encoder.layer.2.crossattention.self.value.weight', 'bert.encoder.layer.3.crossattention.output.LayerNorm.bias', 'bert.encoder.layer.3.crossattention.output.LayerNorm.weight', 'bert.encoder.layer.3.crossattention.output.dense.bias', 'bert.encoder.layer.3.crossattention.output.dense.weight', 'bert.encoder.layer.3.crossattention.self.key.bias', 'bert.encoder.layer.3.crossattention.self.key.weight', 'bert.encoder.layer.3.crossattention.self.query.bias', 'bert.encoder.layer.3.crossattention.self.query.weight', 'bert.encoder.layer.3.crossattention.self.value.bias', 'bert.encoder.layer.3.crossattention.self.value.weight', 'bert.encoder.layer.4.crossattention.output.LayerNorm.bias', 'bert.encoder.layer.4.crossattention.output.LayerNorm.weight', 'bert.encoder.layer.4.crossattention.output.dense.bias', 'bert.encoder.layer.4.crossattention.output.dense.weight', 'bert.encoder.layer.4.crossattention.self.key.bias', 'bert.encoder.layer.4.crossattention.self.key.weight', 'bert.encoder.layer.4.crossattention.self.query.bias', 'bert.encoder.layer.4.crossattention.self.query.weight', 'bert.encoder.layer.4.crossattention.self.value.bias', 'bert.encoder.layer.4.crossattention.self.value.weight', 'bert.encoder.layer.5.crossattention.output.LayerNorm.bias', 'bert.encoder.layer.5.crossattention.output.LayerNorm.weight', 'bert.encoder.layer.5.crossattention.output.dense.bias', 'bert.encoder.layer.5.crossattention.output.dense.weight', 'bert.encoder.layer.5.crossattention.self.key.bias', 'bert.encoder.layer.5.crossattention.self.key.weight', 'bert.encoder.layer.5.crossattention.self.query.bias', 'bert.encoder.layer.5.crossattention.self.query.weight', 'bert.encoder.layer.5.crossattention.self.value.bias', 'bert.encoder.layer.5.crossattention.self.value.weight', 'bert.encoder.layer.6.crossattention.output.LayerNorm.bias', 'bert.encoder.layer.6.crossattention.output.LayerNorm.weight', 'bert.encoder.layer.6.crossattention.output.dense.bias', 'bert.encoder.layer.6.crossattention.output.dense.weight', 'bert.encoder.layer.6.crossattention.self.key.bias', 'bert.encoder.layer.6.crossattention.self.key.weight', 'bert.encoder.layer.6.crossattention.self.query.bias', 'bert.encoder.layer.6.crossattention.self.query.weight', 'bert.encoder.layer.6.crossattention.self.value.bias', 'bert.encoder.layer.6.crossattention.self.value.weight', 'bert.encoder.layer.7.crossattention.output.LayerNorm.bias', 'bert.encoder.layer.7.crossattention.output.LayerNorm.weight', 'bert.encoder.layer.7.crossattention.output.dense.bias', 'bert.encoder.layer.7.crossattention.output.dense.weight', 'bert.encoder.layer.7.crossattention.self.key.bias', 'bert.encoder.layer.7.crossattention.self.key.weight', 'bert.encoder.layer.7.crossattention.self.query.bias', 'bert.encoder.layer.7.crossattention.self.query.weight', 'bert.encoder.layer.7.crossattention.self.value.bias', 'bert.encoder.layer.7.crossattention.self.value.weight', 'bert.encoder.layer.8.crossattention.output.LayerNorm.bias', 'bert.encoder.layer.8.crossattention.output.LayerNorm.weight', 'bert.encoder.layer.8.crossattention.output.dense.bias', 'bert.encoder.layer.8.crossattention.output.dense.weight', 'bert.encoder.layer.8.crossattention.self.key.bias', 'bert.encoder.layer.8.crossattention.self.key.weight', 'bert.encoder.layer.8.crossattention.self.query.bias', 'bert.encoder.layer.8.crossattention.self.query.weight', 'bert.encoder.layer.8.crossattention.self.value.bias', 'bert.encoder.layer.8.crossattention.self.value.weight', 'bert.encoder.layer.9.crossattention.output.LayerNorm.bias', 'bert.encoder.layer.9.crossattention.output.LayerNorm.weight', 'bert.encoder.layer.9.crossattention.output.dense.bias', 'bert.encoder.layer.9.crossattention.output.dense.weight', 'bert.encoder.layer.9.crossattention.self.key.bias', 'bert.encoder.layer.9.crossattention.self.key.weight', 'bert.encoder.layer.9.crossattention.self.query.bias', 'bert.encoder.layer.9.crossattention.self.query.weight', 'bert.encoder.layer.9.crossattention.self.value.bias', 'bert.encoder.layer.9.crossattention.self.value.weight', 'lm_head.bias', 'lm_head.decoder.bias']\n",
      "You should probably TRAIN this model on a down-stream task to be able to use it for predictions and inference.\n"
     ]
    }
   ],
   "source": [
    "encoder_1 = BertGenerationEncoder.from_pretrained(model_name , bos_token_id=101, eos_token_id=102).to(device)\n",
    "# add cross attention layers and use BERT's cls token as BOS token and sep token as EOS token\n",
    "decoder_1 = BertGenerationDecoder.from_pretrained(model_name,add_cross_attention=True, is_decoder=True, bos_token_id=101, eos_token_id=102).to(device)\n",
    "\n",
    "autoencoder_model_1 = EncoderDecoderModel(encoder=encoder_1,decoder=decoder_1).to(device)\n",
    "\n",
    "autoencoder_model_1.config.decoder_start_token_id = tokenizer.cls_token_id\n",
    "autoencoder_model_1.config.pad_token_id = tokenizer.pad_token_id\n",
    "autoencoder_model_1.config.vocab_size = autoencoder_model_1.config.decoder.vocab_size\n",
    "\n"
   ]
  },
  {
   "cell_type": "code",
   "execution_count": 6,
   "metadata": {},
   "outputs": [
    {
     "name": "stderr",
     "output_type": "stream",
     "text": [
      "You are using a model of type bert to instantiate a model of type bert-generation. This is not supported for all configurations of models and can yield errors.\n",
      "You are using a model of type bert to instantiate a model of type bert-generation. This is not supported for all configurations of models and can yield errors.\n",
      "Some weights of BertGenerationDecoder were not initialized from the model checkpoint at google-bert/bert-base-multilingual-cased and are newly initialized: ['bert.encoder.layer.0.crossattention.output.LayerNorm.bias', 'bert.encoder.layer.0.crossattention.output.LayerNorm.weight', 'bert.encoder.layer.0.crossattention.output.dense.bias', 'bert.encoder.layer.0.crossattention.output.dense.weight', 'bert.encoder.layer.0.crossattention.self.key.bias', 'bert.encoder.layer.0.crossattention.self.key.weight', 'bert.encoder.layer.0.crossattention.self.query.bias', 'bert.encoder.layer.0.crossattention.self.query.weight', 'bert.encoder.layer.0.crossattention.self.value.bias', 'bert.encoder.layer.0.crossattention.self.value.weight', 'bert.encoder.layer.1.crossattention.output.LayerNorm.bias', 'bert.encoder.layer.1.crossattention.output.LayerNorm.weight', 'bert.encoder.layer.1.crossattention.output.dense.bias', 'bert.encoder.layer.1.crossattention.output.dense.weight', 'bert.encoder.layer.1.crossattention.self.key.bias', 'bert.encoder.layer.1.crossattention.self.key.weight', 'bert.encoder.layer.1.crossattention.self.query.bias', 'bert.encoder.layer.1.crossattention.self.query.weight', 'bert.encoder.layer.1.crossattention.self.value.bias', 'bert.encoder.layer.1.crossattention.self.value.weight', 'bert.encoder.layer.10.crossattention.output.LayerNorm.bias', 'bert.encoder.layer.10.crossattention.output.LayerNorm.weight', 'bert.encoder.layer.10.crossattention.output.dense.bias', 'bert.encoder.layer.10.crossattention.output.dense.weight', 'bert.encoder.layer.10.crossattention.self.key.bias', 'bert.encoder.layer.10.crossattention.self.key.weight', 'bert.encoder.layer.10.crossattention.self.query.bias', 'bert.encoder.layer.10.crossattention.self.query.weight', 'bert.encoder.layer.10.crossattention.self.value.bias', 'bert.encoder.layer.10.crossattention.self.value.weight', 'bert.encoder.layer.11.crossattention.output.LayerNorm.bias', 'bert.encoder.layer.11.crossattention.output.LayerNorm.weight', 'bert.encoder.layer.11.crossattention.output.dense.bias', 'bert.encoder.layer.11.crossattention.output.dense.weight', 'bert.encoder.layer.11.crossattention.self.key.bias', 'bert.encoder.layer.11.crossattention.self.key.weight', 'bert.encoder.layer.11.crossattention.self.query.bias', 'bert.encoder.layer.11.crossattention.self.query.weight', 'bert.encoder.layer.11.crossattention.self.value.bias', 'bert.encoder.layer.11.crossattention.self.value.weight', 'bert.encoder.layer.2.crossattention.output.LayerNorm.bias', 'bert.encoder.layer.2.crossattention.output.LayerNorm.weight', 'bert.encoder.layer.2.crossattention.output.dense.bias', 'bert.encoder.layer.2.crossattention.output.dense.weight', 'bert.encoder.layer.2.crossattention.self.key.bias', 'bert.encoder.layer.2.crossattention.self.key.weight', 'bert.encoder.layer.2.crossattention.self.query.bias', 'bert.encoder.layer.2.crossattention.self.query.weight', 'bert.encoder.layer.2.crossattention.self.value.bias', 'bert.encoder.layer.2.crossattention.self.value.weight', 'bert.encoder.layer.3.crossattention.output.LayerNorm.bias', 'bert.encoder.layer.3.crossattention.output.LayerNorm.weight', 'bert.encoder.layer.3.crossattention.output.dense.bias', 'bert.encoder.layer.3.crossattention.output.dense.weight', 'bert.encoder.layer.3.crossattention.self.key.bias', 'bert.encoder.layer.3.crossattention.self.key.weight', 'bert.encoder.layer.3.crossattention.self.query.bias', 'bert.encoder.layer.3.crossattention.self.query.weight', 'bert.encoder.layer.3.crossattention.self.value.bias', 'bert.encoder.layer.3.crossattention.self.value.weight', 'bert.encoder.layer.4.crossattention.output.LayerNorm.bias', 'bert.encoder.layer.4.crossattention.output.LayerNorm.weight', 'bert.encoder.layer.4.crossattention.output.dense.bias', 'bert.encoder.layer.4.crossattention.output.dense.weight', 'bert.encoder.layer.4.crossattention.self.key.bias', 'bert.encoder.layer.4.crossattention.self.key.weight', 'bert.encoder.layer.4.crossattention.self.query.bias', 'bert.encoder.layer.4.crossattention.self.query.weight', 'bert.encoder.layer.4.crossattention.self.value.bias', 'bert.encoder.layer.4.crossattention.self.value.weight', 'bert.encoder.layer.5.crossattention.output.LayerNorm.bias', 'bert.encoder.layer.5.crossattention.output.LayerNorm.weight', 'bert.encoder.layer.5.crossattention.output.dense.bias', 'bert.encoder.layer.5.crossattention.output.dense.weight', 'bert.encoder.layer.5.crossattention.self.key.bias', 'bert.encoder.layer.5.crossattention.self.key.weight', 'bert.encoder.layer.5.crossattention.self.query.bias', 'bert.encoder.layer.5.crossattention.self.query.weight', 'bert.encoder.layer.5.crossattention.self.value.bias', 'bert.encoder.layer.5.crossattention.self.value.weight', 'bert.encoder.layer.6.crossattention.output.LayerNorm.bias', 'bert.encoder.layer.6.crossattention.output.LayerNorm.weight', 'bert.encoder.layer.6.crossattention.output.dense.bias', 'bert.encoder.layer.6.crossattention.output.dense.weight', 'bert.encoder.layer.6.crossattention.self.key.bias', 'bert.encoder.layer.6.crossattention.self.key.weight', 'bert.encoder.layer.6.crossattention.self.query.bias', 'bert.encoder.layer.6.crossattention.self.query.weight', 'bert.encoder.layer.6.crossattention.self.value.bias', 'bert.encoder.layer.6.crossattention.self.value.weight', 'bert.encoder.layer.7.crossattention.output.LayerNorm.bias', 'bert.encoder.layer.7.crossattention.output.LayerNorm.weight', 'bert.encoder.layer.7.crossattention.output.dense.bias', 'bert.encoder.layer.7.crossattention.output.dense.weight', 'bert.encoder.layer.7.crossattention.self.key.bias', 'bert.encoder.layer.7.crossattention.self.key.weight', 'bert.encoder.layer.7.crossattention.self.query.bias', 'bert.encoder.layer.7.crossattention.self.query.weight', 'bert.encoder.layer.7.crossattention.self.value.bias', 'bert.encoder.layer.7.crossattention.self.value.weight', 'bert.encoder.layer.8.crossattention.output.LayerNorm.bias', 'bert.encoder.layer.8.crossattention.output.LayerNorm.weight', 'bert.encoder.layer.8.crossattention.output.dense.bias', 'bert.encoder.layer.8.crossattention.output.dense.weight', 'bert.encoder.layer.8.crossattention.self.key.bias', 'bert.encoder.layer.8.crossattention.self.key.weight', 'bert.encoder.layer.8.crossattention.self.query.bias', 'bert.encoder.layer.8.crossattention.self.query.weight', 'bert.encoder.layer.8.crossattention.self.value.bias', 'bert.encoder.layer.8.crossattention.self.value.weight', 'bert.encoder.layer.9.crossattention.output.LayerNorm.bias', 'bert.encoder.layer.9.crossattention.output.LayerNorm.weight', 'bert.encoder.layer.9.crossattention.output.dense.bias', 'bert.encoder.layer.9.crossattention.output.dense.weight', 'bert.encoder.layer.9.crossattention.self.key.bias', 'bert.encoder.layer.9.crossattention.self.key.weight', 'bert.encoder.layer.9.crossattention.self.query.bias', 'bert.encoder.layer.9.crossattention.self.query.weight', 'bert.encoder.layer.9.crossattention.self.value.bias', 'bert.encoder.layer.9.crossattention.self.value.weight', 'lm_head.bias', 'lm_head.decoder.bias']\n",
      "You should probably TRAIN this model on a down-stream task to be able to use it for predictions and inference.\n"
     ]
    }
   ],
   "source": [
    "encoder_2 = BertGenerationEncoder.from_pretrained(model_name , bos_token_id=101, eos_token_id=102).to(device)\n",
    "# add cross attention layers and use BERT's cls token as BOS token and sep token as EOS token\n",
    "decoder_2 = BertGenerationDecoder.from_pretrained(model_name,add_cross_attention=True, is_decoder=True, bos_token_id=101, eos_token_id=102).to(device)\n",
    "\n",
    "\n",
    "autoencoder_model_2 = EncoderDecoderModel(encoder=encoder_2,decoder=decoder_2).to(device)\n",
    "\n",
    "autoencoder_model_2.config.decoder_start_token_id = tokenizer.cls_token_id\n",
    "autoencoder_model_2.config.pad_token_id = tokenizer.pad_token_id\n",
    "autoencoder_model_2.config.vocab_size = autoencoder_model_2.config.decoder.vocab_size\n",
    "\n"
   ]
  },
  {
   "cell_type": "code",
   "execution_count": 7,
   "metadata": {},
   "outputs": [],
   "source": [
    "optimizer = Adam(list(autoencoder_model_1.parameters()) + list(autoencoder_model_2.parameters()), lr=1e-5)"
   ]
  },
  {
   "cell_type": "code",
   "execution_count": 8,
   "metadata": {},
   "outputs": [],
   "source": [
    "def contrastive_loss(outputs1, outputs2, margin=1):\n",
    "    # Calculate Euclidean distance between the encoded representations\n",
    "    distance = F.pairwise_distance(outputs1, outputs2)\n",
    "    # Calculate contrastive loss\n",
    "    loss_contrastive = torch.mean((margin - distance) ** 2)  # Squared hinge loss\n",
    "    return loss_contrastive"
   ]
  },
  {
   "cell_type": "code",
   "execution_count": 9,
   "metadata": {},
   "outputs": [],
   "source": [
    "from datasets import load_dataset\n",
    "\n",
    "dataset = load_dataset(\"cfilt/iitb-english-hindi\")"
   ]
  },
  {
   "cell_type": "code",
   "execution_count": 10,
   "metadata": {},
   "outputs": [],
   "source": [
    "from datasets import Dataset\n",
    "def generate_dataset(dataset , split):\n",
    "    filtered_dataset = dataset[split]['translation']\n",
    "    english_dataset = [data['en'] for data in filtered_dataset]\n",
    "    hindi_dataset = [data['hi'] for data in filtered_dataset]\n",
    "    data_dictionary = {\n",
    "        \"english\" : english_dataset,\n",
    "        \"hindi\" : hindi_dataset\n",
    "    }\n",
    "    return Dataset.from_dict(data_dictionary)\n"
   ]
  },
  {
   "cell_type": "code",
   "execution_count": 11,
   "metadata": {},
   "outputs": [],
   "source": [
    "def get_dataset_as_list(dataset, split):\n",
    "    filtered_dataset = dataset[split]['translation']\n",
    "    english_dataset = [data['en'] for data in filtered_dataset]\n",
    "    hindi_dataset = [data['hi'] for data in filtered_dataset]\n",
    "    return english_dataset, hindi_dataset\n"
   ]
  },
  {
   "cell_type": "code",
   "execution_count": 12,
   "metadata": {},
   "outputs": [],
   "source": [
    "# class CustomTranslationDataset(Dataset):\n",
    "#     def __init__(self, english , hindi):\n",
    "#         self.examples = []\n",
    "#         for eng,hin in zip(english,hindi):\n",
    "#             self.examples.append((eng,hin))\n",
    "\n",
    "\n",
    "#     def __len__(self):\n",
    "#         return len(self.examples)\n",
    "\n",
    "#     def __getitem__(self, idx):\n",
    "#         return self.examples[idx]\n",
    "        \n",
    "# def generate_dataset_from_split(dataset, split):\n",
    "#     english, hindi = get_dataset_as_list(dataset, split)\n",
    "#     dataset = CustomTranslationDataset(english , hindi)\n",
    "#     return dataset\n",
    "            "
   ]
  },
  {
   "cell_type": "code",
   "execution_count": 100,
   "metadata": {},
   "outputs": [],
   "source": []
  },
  {
   "cell_type": "code",
   "execution_count": 13,
   "metadata": {},
   "outputs": [
    {
     "data": {
      "text/plain": [
       "Dataset({\n",
       "    features: ['english', 'hindi'],\n",
       "    num_rows: 2507\n",
       "})"
      ]
     },
     "execution_count": 13,
     "metadata": {},
     "output_type": "execute_result"
    }
   ],
   "source": [
    "test_dataset = generate_dataset(dataset , \"test\")\n",
    "# test_dataset = MyDataset(test_dataset)\n",
    "test_dataset"
   ]
  },
  {
   "cell_type": "code",
   "execution_count": 14,
   "metadata": {},
   "outputs": [],
   "source": [
    "from transformers import DataCollatorForSeq2Seq\n",
    "data_collector = DataCollatorForSeq2Seq(tokenizer=tokenizer)"
   ]
  },
  {
   "cell_type": "code",
   "execution_count": 58,
   "metadata": {},
   "outputs": [
    {
     "data": {
      "text/plain": [
       "<torch.utils.data.dataloader.DataLoader at 0x7f2aa7ba58b0>"
      ]
     },
     "execution_count": 58,
     "metadata": {},
     "output_type": "execute_result"
    }
   ],
   "source": [
    "from torch.utils.data import DataLoader\n",
    "\n",
    "train_batch_size = 10\n",
    "test_batch_size = 10\n",
    "# train_dataloader = DataLoader(train_tokenised_dataset , shuffle=True,\n",
    "#                                 batch_size = train_batch_size,\n",
    "#                                 collate_fn = data_collector\n",
    "#                                 )\n",
    "\n",
    "# test_dataloader = DataLoader(test_dataset , shuffle=True,\n",
    "#                                 batch_size = test_batch_size,\n",
    "#                                 collate_fn = data_collector\n",
    "#                                 )\n",
    "\n",
    "test_dataloader"
   ]
  },
  {
   "cell_type": "code",
   "execution_count": null,
   "metadata": {},
   "outputs": [],
   "source": [
    "# for batch in test_dataloader:\n",
    "#     print(batch.shape)"
   ]
  },
  {
   "cell_type": "code",
   "execution_count": 28,
   "metadata": {},
   "outputs": [],
   "source": [
    "def tokenize_dataset(example):\n",
    "    model_inputs = tokenizer(example[\"english\"], max_length=512, truncation=True , return_tensors='pt')\n",
    "    labels = tokenizer(example[\"hindi\"], max_length=512, truncation=True, return_tensors='pt')\n",
    "    model_inputs[\"hindi_input_ids\"] = labels[\"input_ids\"]\n",
    "    model_inputs['hindi_attn_mask'] = labels['attention_mask']\n",
    "    return model_inputs\n",
    "\n",
    "\n",
    "def tokenize_dataset_english(example):\n",
    "    model_inputs = tokenizer(example[\"english\"], max_length=512, truncation=True)\n",
    "    model_inputs['labels'] = model_inputs['input_ids']\n",
    "    return model_inputs\n",
    "\n",
    "\n",
    "def tokenize_dataset_hindi(example):\n",
    "    model_inputs = tokenizer(example[\"hindi\"], max_length=512, truncation=True)\n",
    "    model_inputs['labels'] = model_inputs['input_ids']\n",
    "    return model_inputs"
   ]
  },
  {
   "cell_type": "code",
   "execution_count": 78,
   "metadata": {},
   "outputs": [],
   "source": [
    "from transformers import get_scheduler\n",
    "from tqdm import tqdm\n",
    "import time\n",
    "\n",
    "\n",
    "def train(autoencoder_model_1 = autoencoder_model_1 , autoencoder_model_2 = autoencoder_model_2, epochs=1):\n",
    "    autoencoder_model_1.train()\n",
    "    autoencoder_model_2.train()\n",
    "    for epoch in tqdm(range(epochs) , desc='epochs'):\n",
    "        total_autoencoder1_loss = 0\n",
    "        total_autoencoder2_loss = 0\n",
    "        total_contrastive_loss = 0\n",
    "\n",
    "        num_training_steps = 1 * len(test_dataset)\n",
    "        lr_scheduler = get_scheduler(\n",
    "                \"linear\",\n",
    "                optimizer = optimizer,\n",
    "                num_warmup_steps= 100,\n",
    "                num_training_steps = num_training_steps\n",
    "            )\n",
    "\n",
    "        steps = 0\n",
    "        batch_size = 10\n",
    "\n",
    "        for idx in tqdm(range(0, len(test_dataset['english']) , batch_size) , desc = \"training\"):\n",
    "            steps+=1\n",
    "\n",
    "            english_batch = test_dataset['english'][idx:idx+batch_size]\n",
    "            hindi_batch = test_dataset['hindi'][idx:idx+batch_size]\n",
    "            data_dictionary = {\n",
    "                \"english\" : english_batch,\n",
    "                \"hindi\" : hindi_batch\n",
    "            }\n",
    "\n",
    "            batch =  Dataset.from_dict(data_dictionary) \n",
    "            english_tokens = batch.map(tokenize_dataset_english).remove_columns(['english' , 'hindi' ])\n",
    "            hindi_tokens = batch.map(tokenize_dataset_hindi).remove_columns(['english' , 'hindi' ])\n",
    "\n",
    "\n",
    "            english_dataloader = DataLoader(english_tokens ,\n",
    "                                        batch_size = batch_size,\n",
    "                                        collate_fn = data_collector\n",
    "                                        )\n",
    "\n",
    "            hindi_dataloader = DataLoader(hindi_tokens ,\n",
    "                                        batch_size = batch_size,\n",
    "                                        collate_fn = data_collector\n",
    "                                        )\n",
    "            \n",
    "            for eng_batch,hin_batch in zip(english_dataloader,hindi_dataloader):\n",
    "                # for english\n",
    "                english_labels = eng_batch['labels'].to(device)\n",
    "                english_labels = torch.where(english_labels != -100, english_labels, tokenizer.pad_token_id)\n",
    "                english_inputs = english_labels\n",
    "                english_attention_mask = eng_batch['attention_mask'].to(device)\n",
    "\n",
    "                value_1 = autoencoder_model_1(input_ids = english_inputs , labels = english_labels , attention_mask = english_attention_mask)\n",
    "                loss_1 = value_1.loss\n",
    "\n",
    "\n",
    "                encoder_1_output = value_1.encoder_last_hidden_state.mean(dim=1)\n",
    "                # print(\"encoder_1_shape\" , encoder_1_output.shape)\n",
    "                \n",
    "\n",
    "\n",
    "\n",
    "                # for hindi\n",
    "\n",
    "                hindi_labels = hin_batch['labels'].to(device)\n",
    "                hindi_labels = torch.where(hindi_labels != -100, hindi_labels, tokenizer.pad_token_id)\n",
    "                hindi_inputs = hindi_labels\n",
    "                hindi_attention_mask = hin_batch['attention_mask'].to(device)\n",
    "\n",
    "\n",
    "                value_2 = autoencoder_model_2(input_ids = hindi_inputs , labels = hindi_labels , attention_mask = hindi_attention_mask)\n",
    "                loss_2 = value_2.loss\n",
    "\n",
    "\n",
    "                encoder_2_output = value_2.encoder_last_hidden_state.mean(dim=1)\n",
    "\n",
    "                # print(\"encoder_2_shape\" , encoder_2_output.shape)\n",
    "\n",
    "\n",
    "                contrastive_loss_calc = contrastive_loss(encoder_1_output,encoder_2_output)\n",
    "\n",
    "                # print(\"contranstive loss is:\" , contrastive_loss_calc)\n",
    "\n",
    "\n",
    "                loss = loss_1 + loss_2 + contrastive_loss_calc\n",
    "\n",
    "\n",
    "                optimizer.zero_grad()\n",
    "                loss.backward()\n",
    "                optimizer.step()\n",
    "                lr_scheduler.step()\n",
    "\n",
    "\n",
    "\n",
    "\n",
    "                total_autoencoder1_loss += loss_1.item()\n",
    "                total_autoencoder2_loss += loss_2.item()\n",
    "                total_contrastive_loss += contrastive_loss_calc.item()\n",
    "\n",
    "\n",
    "\n",
    "                if steps % 5 == 0:\n",
    "                    print(\"Total Loss \" , loss.item() ,f\"Contrastive Loss: {contrastive_loss_calc.item()}\")\n",
    "                    with open(\"log.txt\" , \"a\") as log:\n",
    "                        log_message = f\"\"\"\n",
    "                        Time = {time.time()}\n",
    "                        f\"Autoencoder 1 Loss: {loss_1.item()}\n",
    "                        f\"Autoencoder 2 Loss: {loss_2.item()}\n",
    "                        f\"Contrastive Loss: {contrastive_loss_calc.item()}\n",
    "                        Total Loss: {loss.item()} \n",
    "                        *****************\n",
    "                        \"\"\"\n",
    "                        log.write(log_message)\n",
    "                # save checkpoint every thousand steps\n",
    "                if (steps+1) % 1000 == 0:\n",
    "                    model_1_checkpoint = f\"checkpoints/new/autoencoder_model_1_checkpoint_{steps+1}\"\n",
    "                    model_2_checkpoint = f\"checkpoints/new/autoencoder_model_2_checkpoint_{steps+1}\"\n",
    "                    autoencoder_model_1.save_pretrained(model_1_checkpoint)\n",
    "                    autoencoder_model_2.save_pretrained(model_2_checkpoint)\n",
    "\n",
    "\n",
    "\n",
    "            # Print epoch statistics\n",
    "        print(f\"Epoch {epoch + 1}:\")\n",
    "        print(f\"Autoencoder 1 Loss: {total_autoencoder1_loss / len(dataloader)}\")\n",
    "        print(f\"Autoencoder 2 Loss: {total_autoencoder2_loss / len(dataloader)}\")\n",
    "        print(f\"Contrastive Loss: {total_contrastive_loss / len(dataloader)}\")\n",
    "\n",
    "\n",
    "\n",
    "\n",
    "\n",
    "\n",
    "                # print(\"Total Loss :  \", loss.item())\n",
    "\n",
    "\n"
   ]
  },
  {
   "cell_type": "code",
   "execution_count": null,
   "metadata": {},
   "outputs": [],
   "source": [
    "train()"
   ]
  },
  {
   "cell_type": "code",
   "execution_count": 85,
   "metadata": {},
   "outputs": [],
   "source": [
    "# Inference\n",
    "def translate(src_sentence):\n",
    "    print(src_sentence)\n",
    "    tokens = tokenizer(src_sentence, return_tensors='pt').to(device)\n",
    "    # print(tokens)\n",
    "    encoded_src = autoencoder_model_1.encoder(input_ids = tokens.input_ids , attention_mask = tokens.attention_mask).last_hidden_state\n",
    "    # print(encoded_src)\n",
    "    generated_tgt = autoencoder_model_2.decoder.generate(encoder_hidden_states=encoded_src)\n",
    "    # print(generated_tgt)\n",
    "    decoded_tgt = tokenizer.decode(generated_tgt[0], skip_special_tokens=True)\n",
    "    return decoded_tgt"
   ]
  },
  {
   "cell_type": "code",
   "execution_count": 87,
   "metadata": {},
   "outputs": [
    {
     "name": "stdout",
     "output_type": "stream",
     "text": [
      "are you feeling well\n"
     ]
    },
    {
     "data": {
      "text/plain": [
       "'altra altra altra altra altra altra altra altra altra altra altra दूसरे दूसरे दूसरे दूसरे दूसरे दूसरे दूसरे दूसरे'"
      ]
     },
     "execution_count": 87,
     "metadata": {},
     "output_type": "execute_result"
    },
    {
     "ename": "",
     "evalue": "",
     "output_type": "error",
     "traceback": [
      "\u001b[1;31mThe Kernel crashed while executing code in the the current cell or a previous cell. Please review the code in the cell(s) to identify a possible cause of the failure. Click <a href='https://aka.ms/vscodeJupyterKernelCrash'>here</a> for more info. View Jupyter <a href='command:jupyter.viewOutput'>log</a> for further details."
     ]
    }
   ],
   "source": [
    "translate(\"are you feeling well\")"
   ]
  },
  {
   "cell_type": "code",
   "execution_count": null,
   "metadata": {},
   "outputs": [],
   "source": []
  }
 ],
 "metadata": {
  "kernelspec": {
   "display_name": "hugging-face",
   "language": "python",
   "name": "python3"
  },
  "language_info": {
   "codemirror_mode": {
    "name": "ipython",
    "version": 3
   },
   "file_extension": ".py",
   "mimetype": "text/x-python",
   "name": "python",
   "nbconvert_exporter": "python",
   "pygments_lexer": "ipython3",
   "version": "3.12.2"
  }
 },
 "nbformat": 4,
 "nbformat_minor": 2
}
