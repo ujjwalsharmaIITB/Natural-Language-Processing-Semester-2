{
 "cells": [
  {
   "cell_type": "code",
   "execution_count": 1,
   "metadata": {},
   "outputs": [],
   "source": [
    "from datasets import load_dataset\n",
    "\n",
    "dataset = load_dataset(\"cfilt/iitb-english-hindi\")"
   ]
  },
  {
   "cell_type": "code",
   "execution_count": 6,
   "metadata": {},
   "outputs": [],
   "source": [
    "def save_data(dataset , split):\n",
    "    filtered_dataset = dataset[split]['translation']\n",
    "    english_dataset = [data['en'] for data in filtered_dataset]\n",
    "    hindi_dataset = [data['hi'] for data in filtered_dataset]\n",
    "    with open(f\"data/hindi-{split}.txt\", 'w') as hindi_file, open(f\"data/english-{split}.txt\" , \"w\") as english_file:\n",
    "        for hi_sent,eng_sent in zip(hindi_dataset,english_dataset):\n",
    "            hindi_file.write(hi_sent.strip() + \"\\n\")\n",
    "            english_file.write(eng_sent.strip() +\"\\n\")\n",
    "\n"
   ]
  },
  {
   "cell_type": "code",
   "execution_count": 7,
   "metadata": {},
   "outputs": [],
   "source": [
    "save_data(dataset , \"validation\")"
   ]
  },
  {
   "cell_type": "code",
   "execution_count": null,
   "metadata": {},
   "outputs": [],
   "source": [
    "save_data"
   ]
  }
 ],
 "metadata": {
  "kernelspec": {
   "display_name": "hugging-face",
   "language": "python",
   "name": "python3"
  },
  "language_info": {
   "codemirror_mode": {
    "name": "ipython",
    "version": 3
   },
   "file_extension": ".py",
   "mimetype": "text/x-python",
   "name": "python",
   "nbconvert_exporter": "python",
   "pygments_lexer": "ipython3",
   "version": "3.12.2"
  }
 },
 "nbformat": 4,
 "nbformat_minor": 2
}
